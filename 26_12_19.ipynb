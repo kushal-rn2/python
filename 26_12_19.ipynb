{
  "nbformat": 4,
  "nbformat_minor": 0,
  "metadata": {
    "colab": {
      "name": "26-12-19.ipynb",
      "provenance": [],
      "collapsed_sections": [],
      "include_colab_link": true
    },
    "kernelspec": {
      "name": "python3",
      "display_name": "Python 3"
    }
  },
  "cells": [
    {
      "cell_type": "markdown",
      "metadata": {
        "id": "view-in-github",
        "colab_type": "text"
      },
      "source": [
        "<a href=\"https://colab.research.google.com/github/kushal-rn2/python/blob/master/26_12_19.ipynb\" target=\"_parent\"><img src=\"https://colab.research.google.com/assets/colab-badge.svg\" alt=\"Open In Colab\"/></a>"
      ]
    },
    {
      "cell_type": "code",
      "metadata": {
        "id": "QK35QTG6XTLb",
        "colab_type": "code",
        "outputId": "b0d372cf-d9ef-4f17-e463-c576ae44d579",
        "colab": {
          "base_uri": "https://localhost:8080/",
          "height": 85
        }
      },
      "source": [
        "#Find Largest number from given three numbers\n",
        "a=int(input(\"enter the number\"))\n",
        "b=int(input(\"enter the number\"))\n",
        "c=int(input(\"enter the number\"))\n",
        "if a>b and a>c:\n",
        " print(a,\"is the largest number\")\n",
        "elif b>a and b>c:\n",
        "  print(B, \"is largest number\")\n",
        "else:\n",
        " print(c,\"is the largest number\")"
      ],
      "execution_count": 0,
      "outputs": [
        {
          "output_type": "stream",
          "text": [
            "enter the number2\n",
            "enter the number678\n",
            "enter the number5554\n",
            "5554 is the largest number\n"
          ],
          "name": "stdout"
        }
      ]
    },
    {
      "cell_type": "code",
      "metadata": {
        "id": "96gCseR0a0NE",
        "colab_type": "code",
        "colab": {}
      },
      "source": [
        ""
      ],
      "execution_count": 0,
      "outputs": []
    },
    {
      "cell_type": "code",
      "metadata": {
        "id": "4SvR9WGzaChv",
        "colab_type": "code",
        "colab": {}
      },
      "source": [
        ""
      ],
      "execution_count": 0,
      "outputs": []
    },
    {
      "cell_type": "markdown",
      "metadata": {
        "id": "zCIEGVoLaDK3",
        "colab_type": "text"
      },
      "source": [
        "#While Statement:\n",
        "###syntax:\n",
        "#####While boolean_condition:<br>\n",
        "             statement<br>\n",
        "             increment / decrement <br>\n"
      ]
    },
    {
      "cell_type": "code",
      "metadata": {
        "id": "rBvVHQDya1Qc",
        "colab_type": "code",
        "outputId": "1b8c1478-02a2-46c3-b07b-c76de71edf97",
        "colab": {
          "base_uri": "https://localhost:8080/",
          "height": 102
        }
      },
      "source": [
        "x=0\n",
        "while x<5:\n",
        " print(\"gitam\")\n",
        " x=x+1\n"
      ],
      "execution_count": 0,
      "outputs": [
        {
          "output_type": "stream",
          "text": [
            "gitam\n",
            "gitam\n",
            "gitam\n",
            "gitam\n",
            "gitam\n"
          ],
          "name": "stdout"
        }
      ]
    },
    {
      "cell_type": "code",
      "metadata": {
        "id": "K3yhP4KIct_w",
        "colab_type": "code",
        "outputId": "c4bb8580-469f-475b-9dbf-bc67ea86659b",
        "colab": {
          "base_uri": "https://localhost:8080/",
          "height": 51
        }
      },
      "source": [
        "#Print n nuatural numbers wsing whileloop\n",
        "#input:15\n",
        "#output:1234567891011121314\n",
        "n=int(input(\"enter a number\"))\n",
        "i=1\n",
        "while i<n:\n",
        "  print(i,end=\" \")\n",
        "  i=i+1"
      ],
      "execution_count": 0,
      "outputs": [
        {
          "output_type": "stream",
          "text": [
            "enter a number15\n",
            "1 2 3 4 5 6 7 8 9 10 11 12 13 14 "
          ],
          "name": "stdout"
        }
      ]
    },
    {
      "cell_type": "code",
      "metadata": {
        "id": "vwPR1bRAf45W",
        "colab_type": "code",
        "outputId": "9d71ec08-e05d-4306-9cf9-d0c364c06d9c",
        "colab": {
          "base_uri": "https://localhost:8080/",
          "height": 51
        }
      },
      "source": [
        "#add only even numbers 1to \n",
        "#input:10\n",
        "#output:30\n",
        "n=int(input(\"enter a number\"))\n",
        "i=1\n",
        "sum=0\n",
        "while i<=n:\n",
        "  if i%2==0:\n",
        "    sum=sum+i\n",
        "  i=i+1\n",
        "print(sum)"
      ],
      "execution_count": 0,
      "outputs": [
        {
          "output_type": "stream",
          "text": [
            "enter a number10\n",
            "30\n"
          ],
          "name": "stdout"
        }
      ]
    },
    {
      "cell_type": "code",
      "metadata": {
        "id": "pvV9yG9Dh-AH",
        "colab_type": "code",
        "outputId": "2214471d-a5a5-483a-fd58-2e2c3fd510b2",
        "colab": {
          "base_uri": "https://localhost:8080/",
          "height": 51
        }
      },
      "source": [
        "n=int(input(\"enter a number\"))\n",
        "while n!=0:\n",
        "   r=n%10\n",
        "   print(r,end=\" \")\n",
        "   n=n//10"
      ],
      "execution_count": 0,
      "outputs": [
        {
          "output_type": "stream",
          "text": [
            "enter a number135\n",
            "5 3 1 "
          ],
          "name": "stdout"
        }
      ]
    },
    {
      "cell_type": "code",
      "metadata": {
        "id": "pi8CWUFAkyN4",
        "colab_type": "code",
        "colab": {}
      },
      "source": [
        ""
      ],
      "execution_count": 0,
      "outputs": []
    },
    {
      "cell_type": "markdown",
      "metadata": {
        "id": "v6HP7YQbk2n8",
        "colab_type": "text"
      },
      "source": [
        "#Functional Programming\n",
        "- simple\n",
        "- easy read\n",
        "- lengthy programs into sub programs\n",
        "\n",
        "##Syntax:\n",
        "def nameofthefunction(<parameters>):\n",
        "  statements\n",
        "  return\n",
        "  \n"
      ]
    },
    {
      "cell_type": "code",
      "metadata": {
        "id": "rvUtZM6ul4Ai",
        "colab_type": "code",
        "outputId": "0bd672a7-4ccb-4875-9b64-615d03d9fd99",
        "colab": {
          "base_uri": "https://localhost:8080/",
          "height": 34
        }
      },
      "source": [
        "#input:1234\n",
        "#output:6(2+4)\n",
        "def addevendigit(n):\n",
        "  sum=0\n",
        "  while n!=0:\n",
        "    r=n%10\n",
        "    if r%2==0:\n",
        "       sum=sum+r\n",
        "    n=n//10\n",
        "  return sum\n",
        "addevendigit(1234)"
      ],
      "execution_count": 0,
      "outputs": [
        {
          "output_type": "execute_result",
          "data": {
            "text/plain": [
              "6"
            ]
          },
          "metadata": {
            "tags": []
          },
          "execution_count": 23
        }
      ]
    },
    {
      "cell_type": "code",
      "metadata": {
        "id": "vLofVTsUpZ50",
        "colab_type": "code",
        "colab": {
          "base_uri": "https://localhost:8080/",
          "height": 34
        },
        "outputId": "799e30e7-5cbd-41dd-d95c-c5e897ab3089"
      },
      "source": [
        "#read input\n",
        "#input:1935646\n",
        "#output:9\n",
        "def largest(n):\n",
        "  l=0\n",
        "  while n!=0:\n",
        "    r=n%10\n",
        "    if r>l:\n",
        "      l=r\n",
        "    n=n//10\n",
        "  return l\n",
        "largest(19355364)"
      ],
      "execution_count": 36,
      "outputs": [
        {
          "output_type": "execute_result",
          "data": {
            "text/plain": [
              "9"
            ]
          },
          "metadata": {
            "tags": []
          },
          "execution_count": 36
        }
      ]
    },
    {
      "cell_type": "code",
      "metadata": {
        "id": "usSgoEHrwNVY",
        "colab_type": "code",
        "colab": {
          "base_uri": "https://localhost:8080/",
          "height": 34
        },
        "outputId": "68b8f866-456d-40df-94bc-9dde0344ec5d"
      },
      "source": [
        "#input:123\n",
        "#out 321\n",
        "def revnum(n):\n",
        "  while n!=0:\n",
        "    r=n%10\n",
        "    print(r,end=\" \")\n",
        "    n=n//10\n",
        "revnum(123)"
      ],
      "execution_count": 41,
      "outputs": [
        {
          "output_type": "stream",
          "text": [
            "3 2 1 "
          ],
          "name": "stdout"
        }
      ]
    },
    {
      "cell_type": "code",
      "metadata": {
        "id": "y5_Eqg5Ly9OY",
        "colab_type": "code",
        "colab": {
          "base_uri": "https://localhost:8080/",
          "height": 51
        },
        "outputId": "97a2575f-bbbd-43cb-813e-16cf908b7f12"
      },
      "source": [
        "#palindrom or not\n",
        "def ispalindrome(n):\n",
        "  rev=0\n",
        "  buffer=n\n",
        "  while n!=0:\n",
        "       r=n%10\n",
        "       rev=rev*10+r\n",
        "       n=n//10\n",
        "  if buffer==rev:\n",
        "    return \"yes\"\n",
        "  else:\n",
        "    return \"no\"\n",
        "print(ispalindrome(123))\n",
        "print(ispalindrome(121))  "
      ],
      "execution_count": 45,
      "outputs": [
        {
          "output_type": "stream",
          "text": [
            "no\n",
            "yes\n"
          ],
          "name": "stdout"
        }
      ]
    },
    {
      "cell_type": "code",
      "metadata": {
        "id": "8M-2qhoW0Hbz",
        "colab_type": "code",
        "colab": {
          "base_uri": "https://localhost:8080/",
          "height": 34
        },
        "outputId": "d51f5d21-2964-4a70-f90a-fe7c34742f88"
      },
      "source": [
        "#function to print n natural numbers\n",
        "def natural(n):\n",
        "  for i in range(1,n+1):\n",
        "    print(i,end=\" \")\n",
        "natural(10)"
      ],
      "execution_count": 46,
      "outputs": [
        {
          "output_type": "stream",
          "text": [
            "1 2 3 4 5 6 7 8 9 10 "
          ],
          "name": "stdout"
        }
      ]
    },
    {
      "cell_type": "code",
      "metadata": {
        "id": "0MnwZ7w_1K9l",
        "colab_type": "code",
        "colab": {
          "base_uri": "https://localhost:8080/",
          "height": 34
        },
        "outputId": "6831224f-fbe2-4718-ae2e-f9c5d13c412c"
      },
      "source": [
        "def natural(l,b):\n",
        "  for i in range(l,b+1):\n",
        "    print(i,end=\" \")\n",
        "natural(15,25)"
      ],
      "execution_count": 50,
      "outputs": [
        {
          "output_type": "stream",
          "text": [
            "15 16 17 18 19 20 21 22 23 24 25 "
          ],
          "name": "stdout"
        }
      ]
    },
    {
      "cell_type": "code",
      "metadata": {
        "id": "y4TCKhuF23Wp",
        "colab_type": "code",
        "colab": {
          "base_uri": "https://localhost:8080/",
          "height": 34
        },
        "outputId": "d1eada94-bad1-4d4a-ce3c-766548112b11"
      },
      "source": [
        "def natural(l,b):\n",
        "  for i in range(l,b+1,4):\n",
        "    print(i,end=\" \")\n",
        "natural(1,10)"
      ],
      "execution_count": 51,
      "outputs": [
        {
          "output_type": "stream",
          "text": [
            "1 5 9 "
          ],
          "name": "stdout"
        }
      ]
    },
    {
      "cell_type": "code",
      "metadata": {
        "id": "AA8rN7Ng3NSO",
        "colab_type": "code",
        "colab": {
          "base_uri": "https://localhost:8080/",
          "height": 34
        },
        "outputId": "9128d2b4-41d1-4a16-ff8b-024fb0f121ef"
      },
      "source": [
        "def reverange(start,end):\n",
        "  for i in range(end,start-1,-1):\n",
        "      print(i,end=\" \")\n",
        "reverange(1,10)"
      ],
      "execution_count": 61,
      "outputs": [
        {
          "output_type": "stream",
          "text": [
            "10 9 8 7 6 5 4 3 2 1 "
          ],
          "name": "stdout"
        }
      ]
    },
    {
      "cell_type": "markdown",
      "metadata": {
        "id": "m-WBtZlW5uKB",
        "colab_type": "text"
      },
      "source": [
        "#Data Structures\n",
        "- list\n",
        "- tuple\n",
        "- distionary\n",
        "##List:\n",
        "- its one comman data structure in python,the itemsare seperaeted by comma and closed by [ ]\n",
        "- crud\n",
        "- c- create\n",
        "- r- read\n",
        "- u- update\n",
        "- d- delete\n",
        "- list can be changed or mutable\n",
        "##Example\n",
        "- list[1,2,3,4,5]\n",
        "\n"
      ]
    },
    {
      "cell_type": "code",
      "metadata": {
        "id": "G864PlKe7vsb",
        "colab_type": "code",
        "colab": {
          "base_uri": "https://localhost:8080/",
          "height": 68
        },
        "outputId": "79f177a4-1cb4-41ae-d69c-2fb4c5123133"
      },
      "source": [
        "li=[1,2,3,4,5]\n",
        "print(li)\n",
        "print(li[0])\n",
        "print(li[-1])"
      ],
      "execution_count": 63,
      "outputs": [
        {
          "output_type": "stream",
          "text": [
            "[1, 2, 3, 4, 5]\n",
            "1\n",
            "5\n"
          ],
          "name": "stdout"
        }
      ]
    },
    {
      "cell_type": "code",
      "metadata": {
        "id": "x-lOfHXC4rqY",
        "colab_type": "code",
        "colab": {}
      },
      "source": [
        ""
      ],
      "execution_count": 0,
      "outputs": []
    }
  ]
}